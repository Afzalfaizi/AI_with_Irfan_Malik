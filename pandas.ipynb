{
  "nbformat": 4,
  "nbformat_minor": 0,
  "metadata": {
    "colab": {
      "provenance": [],
      "authorship_tag": "ABX9TyNnqCmhvs4HSJFo1G1ODsCR",
      "include_colab_link": true
    },
    "kernelspec": {
      "name": "python3",
      "display_name": "Python 3"
    },
    "language_info": {
      "name": "python"
    }
  },
  "cells": [
    {
      "cell_type": "markdown",
      "metadata": {
        "id": "view-in-github",
        "colab_type": "text"
      },
      "source": [
        "<a href=\"https://colab.research.google.com/github/Afzalfaizi/AI_with_Irfan_Malik/blob/main/pandas.ipynb\" target=\"_parent\"><img src=\"https://colab.research.google.com/assets/colab-badge.svg\" alt=\"Open In Colab\"/></a>"
      ]
    },
    {
      "cell_type": "markdown",
      "source": [],
      "metadata": {
        "id": "S5qx6JBr3Vld"
      }
    },
    {
      "cell_type": "markdown",
      "source": [
        "This note book cover the following concepts\n",
        "\n",
        "1. Pandas\n",
        "2. Loading the Data\n",
        "3. Data Frame"
      ],
      "metadata": {
        "id": "1AlbdzqF3Zs7"
      }
    },
    {
      "cell_type": "markdown",
      "source": [
        "# **Key Features of Pandas**\n",
        "**DataFrame:** A two-dimensional labeled data structure for working with tabular data.\n",
        "\n",
        "**Data Manipulation:** Powerful tools for filtering, transforming, and aggregating data.\n",
        "\n",
        "**Data Cleaning:** Functions to handle missing values, duplicate data, and outliers.\n",
        "\n",
        "**Data Input/Output:** Read and write data from various file formats, including CSV and Excel."
      ],
      "metadata": {
        "id": "bOk4sNoH3cAA"
      }
    },
    {
      "cell_type": "markdown",
      "source": [
        "# **Installing Pandas**\n",
        "\n",
        "Run the command: !pip install pandas."
      ],
      "metadata": {
        "id": "O_hpF4Xl3g-w"
      }
    },
    {
      "cell_type": "code",
      "source": [
        "!pip install Pandas"
      ],
      "metadata": {
        "colab": {
          "base_uri": "https://localhost:8080/"
        },
        "id": "4UHHKFZm3meT",
        "outputId": "35c71f26-d6c6-48e2-e1c4-c74300ccbefd"
      },
      "execution_count": 1,
      "outputs": [
        {
          "output_type": "stream",
          "name": "stdout",
          "text": [
            "Requirement already satisfied: Pandas in /usr/local/lib/python3.10/dist-packages (2.1.4)\n",
            "Requirement already satisfied: numpy<2,>=1.22.4 in /usr/local/lib/python3.10/dist-packages (from Pandas) (1.26.4)\n",
            "Requirement already satisfied: python-dateutil>=2.8.2 in /usr/local/lib/python3.10/dist-packages (from Pandas) (2.8.2)\n",
            "Requirement already satisfied: pytz>=2020.1 in /usr/local/lib/python3.10/dist-packages (from Pandas) (2024.1)\n",
            "Requirement already satisfied: tzdata>=2022.1 in /usr/local/lib/python3.10/dist-packages (from Pandas) (2024.1)\n",
            "Requirement already satisfied: six>=1.5 in /usr/local/lib/python3.10/dist-packages (from python-dateutil>=2.8.2->Pandas) (1.16.0)\n"
          ]
        }
      ]
    },
    {
      "cell_type": "code",
      "source": [
        "import pandas as pd\n"
      ],
      "metadata": {
        "id": "RYChCUxS30Z2"
      },
      "execution_count": 2,
      "outputs": []
    },
    {
      "cell_type": "code",
      "source": [
        "df = pd.read_csv(\"vgsalesGlobale.csv\", index_col = \"Name\")"
      ],
      "metadata": {
        "id": "C8qzuz7E346y"
      },
      "execution_count": null,
      "outputs": []
    },
    {
      "cell_type": "markdown",
      "source": [
        "The **head()** function is used to display the first few rows of a DataFrame or a data structure containing tabular data.\n",
        "\n",
        "It is primarily used for data exploration and getting a quick overview of the data."
      ],
      "metadata": {
        "id": "IHlw2Kid4OSR"
      }
    },
    {
      "cell_type": "code",
      "source": [
        "df.head()"
      ],
      "metadata": {
        "id": "VLtZRkdS4TKb"
      },
      "execution_count": null,
      "outputs": []
    },
    {
      "cell_type": "markdown",
      "source": [
        "The **tail()** function is used to view the last few rows of a DataFrame or a file.\n",
        "\n",
        "It is a convenient way to quickly inspect the end of a dataset or file without having to display the entire contents."
      ],
      "metadata": {
        "id": "9Zp-eaay4asT"
      }
    },
    {
      "cell_type": "code",
      "source": [
        "df.tail(10)"
      ],
      "metadata": {
        "id": "T3gQK3ks4p1M"
      },
      "execution_count": null,
      "outputs": []
    },
    {
      "cell_type": "code",
      "source": [
        "df.shape"
      ],
      "metadata": {
        "id": "BBXJBhyF4h2M"
      },
      "execution_count": null,
      "outputs": []
    },
    {
      "cell_type": "code",
      "source": [
        "df.dtypes"
      ],
      "metadata": {
        "id": "D7yh5rnI4s9k"
      },
      "execution_count": null,
      "outputs": []
    }
  ]
}