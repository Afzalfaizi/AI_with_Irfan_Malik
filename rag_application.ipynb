{
  "nbformat": 4,
  "nbformat_minor": 0,
  "metadata": {
    "colab": {
      "provenance": [],
      "authorship_tag": "ABX9TyMIByQ3fWGq4Owa1kjrFjZJ",
      "include_colab_link": true
    },
    "kernelspec": {
      "name": "python3",
      "display_name": "Python 3"
    },
    "language_info": {
      "name": "python"
    }
  },
  "cells": [
    {
      "cell_type": "markdown",
      "metadata": {
        "id": "view-in-github",
        "colab_type": "text"
      },
      "source": [
        "<a href=\"https://colab.research.google.com/github/Afzalfaizi/AI_with_Irfan_Malik/blob/main/rag_application.ipynb\" target=\"_parent\"><img src=\"https://colab.research.google.com/assets/colab-badge.svg\" alt=\"Open In Colab\"/></a>"
      ]
    },
    {
      "cell_type": "markdown",
      "source": [
        "# Rag Based Application in Langchain"
      ],
      "metadata": {
        "id": "mqRBxO_V_ahB"
      }
    },
    {
      "cell_type": "markdown",
      "source": [
        "## Splitters\n",
        "### Types of Splitters\n",
        "* Recursive Splitter\n",
        "* HTML Splitter\n",
        "* Markdown Splitter\n",
        "* Code Splitter\n",
        "* Token Splitter\n",
        "* Character Splitter\n",
        "* Semantic Chunker\n",
        "\n"
      ],
      "metadata": {
        "id": "76ZSvO0F_hHb"
      }
    },
    {
      "cell_type": "code",
      "source": [],
      "metadata": {
        "id": "tGGFN2ja_lrL"
      },
      "execution_count": null,
      "outputs": []
    }
  ]
}