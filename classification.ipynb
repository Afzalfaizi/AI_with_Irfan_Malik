{
  "nbformat": 4,
  "nbformat_minor": 0,
  "metadata": {
    "colab": {
      "provenance": [],
      "gpuType": "T4",
      "mount_file_id": "1hc8JRVMQOavPqr7v8jhWw9EkIhZZXHct",
      "authorship_tag": "ABX9TyNIIIOOoiGfvMYqLUDLPq9y",
      "include_colab_link": true
    },
    "kernelspec": {
      "name": "python3",
      "display_name": "Python 3"
    },
    "language_info": {
      "name": "python"
    },
    "accelerator": "GPU"
  },
  "cells": [
    {
      "cell_type": "markdown",
      "metadata": {
        "id": "view-in-github",
        "colab_type": "text"
      },
      "source": [
        "<a href=\"https://colab.research.google.com/github/Afzalfaizi/AI_with_Irfan_Malik/blob/main/classification.ipynb\" target=\"_parent\"><img src=\"https://colab.research.google.com/assets/colab-badge.svg\" alt=\"Open In Colab\"/></a>"
      ]
    },
    {
      "cell_type": "code",
      "execution_count": 1,
      "metadata": {
        "id": "0QSB6gxpQV5j"
      },
      "outputs": [],
      "source": [
        "import numpy as np\n",
        "import pandas as pd\n",
        "import matplotlib.pyplot as plt\n",
        "%matplotlib inline\n",
        "import sklearn\n",
        "import seaborn as sns\n",
        "import warnings\n",
        "warnings.filterwarnings('ignore')\n",
        "plt.rcParams[\"figure.figsize\"] = [10,5]\n",
        "# Ignore warnings\n",
        "\n",
        "import warnings\n",
        "# Set the warning filter to ignore FutureWarning\n",
        "warnings.simplefilter(action = \"ignore\", category = FutureWarning)"
      ]
    },
    {
      "cell_type": "code",
      "source": [
        "%matplotlib inline\n",
        "\n",
        "import numpy as np\n",
        "import pandas as pd\n",
        "import seaborn as sns\n",
        "import matplotlib.pyplot as plt"
      ],
      "metadata": {
        "id": "-qnx3j5-mLnd"
      },
      "execution_count": 2,
      "outputs": []
    },
    {
      "cell_type": "markdown",
      "source": [
        "## **Seaborn colour palette**\n",
        "\n",
        "\n",
        "Colour plays very important role in data visualization. Colour adds various dimensions to a plot when used effectively.\n",
        "A palette means a flat surface on which a painter mixes paints.\n",
        "\n",
        "\n",
        "Seaborn provides a function called **color_palette()**. It can be used to give colours to plots and adding aesthetic value to it. It return a list of colors defining a color palette.\n",
        "\n",
        "\n",
        "There are several readily available Seaborn palettes. These are:-\n",
        "\n",
        "•\tDeep\n",
        "\n",
        "•\tMuted\n",
        "\n",
        "•\tBright\n",
        "\n",
        "•\tPastel\n",
        "\n",
        "•\tDark\n",
        "\n",
        "•\tColorblind\n",
        "\n",
        "Besides these we can also create new palettes.\n",
        "\n",
        "There is another function **seaborn.palplot()** which deals with color palettes. This function plots the color palette as a horizontal array.\n"
      ],
      "metadata": {
        "id": "7PwOsfrRmRQZ"
      }
    },
    {
      "cell_type": "markdown",
      "source": [
        "**Categorical Color Palettes**\n",
        "\n",
        "Qualitative or categorical palettes are best suitable to plot the categorical data as follows:-\n"
      ],
      "metadata": {
        "id": "KA5_zbpJmWps"
      }
    },
    {
      "cell_type": "code",
      "source": [
        "current_palette1 = sns.color_palette()\n",
        "\n",
        "sns.palplot(current_palette1)\n",
        "\n",
        "plt.show()\n"
      ],
      "metadata": {
        "id": "KvX_ieMAmS6S"
      },
      "execution_count": null,
      "outputs": []
    },
    {
      "cell_type": "markdown",
      "source": [
        "**Continous Color Palettes**\n",
        "\n",
        "Sequential plots are suitable to express the distribution of data ranging from relative lower values to higher values within a range. Appending an additional character \"s\" to the color passed to the color parameter will plot the Sequential plot.\n",
        "\n",
        "We need to append 's' to the parameter like 'Greens' as follows:-\n"
      ],
      "metadata": {
        "id": "9WppZvgKm3Nw"
      }
    },
    {
      "cell_type": "code",
      "source": [
        "current_palette2 = sns.color_palette()\n",
        "\n",
        "sns.palplot( sns.color_palette(\"Reds\"))\n",
        "\n",
        "plt.show()\n"
      ],
      "metadata": {
        "id": "d8Z8hR7Fm7VH"
      },
      "execution_count": null,
      "outputs": []
    },
    {
      "cell_type": "markdown",
      "source": [
        "**Diverging Color Palette**\n",
        "\n",
        "Diverging palettes use two different colors. Each color represents variation in the value ranging from a common point in either direction.\n",
        "\n",
        "We assume plotting the data ranging from -1 to 1. The values from -1 to 0 takes one color and 0 to +1 takes another color.\n",
        "\n",
        "By default, the values are centered from zero. We can control it with parameter center by passing a value as follows:-\n"
      ],
      "metadata": {
        "id": "SdVB4-mdm92l"
      }
    },
    {
      "cell_type": "code",
      "source": [
        "current_palette3 = sns.color_palette()\n",
        "\n",
        "sns.palplot(sns.color_palette(\"BrBG\", 20))\n",
        "\n",
        "plt.show()"
      ],
      "metadata": {
        "id": "FROYBSjDnAZh"
      },
      "execution_count": null,
      "outputs": []
    },
    {
      "cell_type": "markdown",
      "source": [
        "# **Seaborn on Titanic dataset**\n",
        "\n",
        "In this tutorial, we will learn to use different Searbon plot functions to get insight from data. We will use Titanic dataset to experiment these searbon kind of plot.\n",
        "\n",
        "### Prerequisites\n",
        "You should have a basic understanding of ***computer programming terminologies***. A basic understanding of ***Python*** and any of the programming languages is a plus. Seaborn library is built on top of Matplotlib. Having basic idea of ***Matplotlib*** will help you understand this tutorial in a better way.\n"
      ],
      "metadata": {
        "id": "xheNFB7hnC5u"
      }
    },
    {
      "cell_type": "code",
      "source": [
        "current_palette2 = sns.color_palette()\n",
        "\n",
        "sns.palplot( sns.color_palette(\"colorblind\"))\n",
        "\n",
        "plt.show()"
      ],
      "metadata": {
        "id": "HznBZJaUnE_6"
      },
      "execution_count": null,
      "outputs": []
    },
    {
      "cell_type": "markdown",
      "source": [
        "### Import the Data\n",
        "Let's extract the our **Titanic data** from the .csv file, create a  pandas DataFrame and look at the available indicators:\n",
        "\n",
        "- ***Survived***: Outcome of survival (0 = No; 1 = Yes)\n",
        "- ***Pclass***: Socio-economic class (1 = Upper class; 2 = Middle class; 3 = Lower class)\n",
        "- ***Name***: Name of passenger\n",
        "- ***Sex***: Sex of the passenger\n",
        "- ***Age***: Age of the passenger (Some entries contain NaN)\n",
        "- ***SibSp***: Number of siblings and spouses of the passenger aboard\n",
        "- ***Parch***: Number of parents and children of the passenger aboard\n",
        "- ***Ticket***: Ticket number of the passenger\n",
        "- ***Fare***: Fare paid by the passenger\n",
        "- ***Cabin***: Cabin number of the passenger (Some entries contain NaN)\n",
        "- ***Embarked***: Port of embarkation of the passenger (C = Cherbourg; Q = Queenstown; S = Southampton)"
      ],
      "metadata": {
        "id": "jIZ2U7HVnHEK"
      }
    },
    {
      "cell_type": "code",
      "source": [
        "full_data = pd.read_csv('/content/titanic_dataset.csv')"
      ],
      "metadata": {
        "id": "hmM3eJ8JnJzp"
      },
      "execution_count": null,
      "outputs": []
    }
  ]
}