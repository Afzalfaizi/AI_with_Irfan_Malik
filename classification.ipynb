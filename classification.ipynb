{
  "nbformat": 4,
  "nbformat_minor": 0,
  "metadata": {
    "colab": {
      "provenance": [],
      "gpuType": "T4",
      "authorship_tag": "ABX9TyPEqqFnRb8a7f8uUiqbnaFq",
      "include_colab_link": true
    },
    "kernelspec": {
      "name": "python3",
      "display_name": "Python 3"
    },
    "language_info": {
      "name": "python"
    },
    "accelerator": "GPU"
  },
  "cells": [
    {
      "cell_type": "markdown",
      "metadata": {
        "id": "view-in-github",
        "colab_type": "text"
      },
      "source": [
        "<a href=\"https://colab.research.google.com/github/Afzalfaizi/AI_with_Irfan_Malik/blob/main/classification.ipynb\" target=\"_parent\"><img src=\"https://colab.research.google.com/assets/colab-badge.svg\" alt=\"Open In Colab\"/></a>"
      ]
    },
    {
      "cell_type": "code",
      "execution_count": 1,
      "metadata": {
        "id": "0QSB6gxpQV5j"
      },
      "outputs": [],
      "source": [
        "import numpy as np\n",
        "import pandas as pd\n",
        "import matplotlib.pyplot as plt\n",
        "%matplotlib inline\n",
        "import sklearn\n",
        "import seaborn as sns\n",
        "import warnings\n",
        "warnings.filterwarnings('ignore')\n",
        "plt.rcParams[\"figure.figsize\"] = [10,5]\n",
        "# Ignore warnings\n",
        "\n",
        "import warnings\n",
        "# Set the warning filter to ignore FutureWarning\n",
        "warnings.simplefilter(action = \"ignore\", category = FutureWarning)"
      ]
    },
    {
      "cell_type": "code",
      "source": [
        "%matplotlib inline\n",
        "\n",
        "import numpy as np\n",
        "import pandas as pd\n",
        "import seaborn as sns\n",
        "import matplotlib.pyplot as plt"
      ],
      "metadata": {
        "id": "-qnx3j5-mLnd"
      },
      "execution_count": 2,
      "outputs": []
    },
    {
      "cell_type": "markdown",
      "source": [
        "## **Seaborn colour palette**\n",
        "\n",
        "\n",
        "Colour plays very important role in data visualization. Colour adds various dimensions to a plot when used effectively.\n",
        "A palette means a flat surface on which a painter mixes paints.\n",
        "\n",
        "\n",
        "Seaborn provides a function called **color_palette()**. It can be used to give colours to plots and adding aesthetic value to it. It return a list of colors defining a color palette.\n",
        "\n",
        "\n",
        "There are several readily available Seaborn palettes. These are:-\n",
        "\n",
        "•\tDeep\n",
        "\n",
        "•\tMuted\n",
        "\n",
        "•\tBright\n",
        "\n",
        "•\tPastel\n",
        "\n",
        "•\tDark\n",
        "\n",
        "•\tColorblind\n",
        "\n",
        "Besides these we can also create new palettes.\n",
        "\n",
        "There is another function **seaborn.palplot()** which deals with color palettes. This function plots the color palette as a horizontal array.\n"
      ],
      "metadata": {
        "id": "7PwOsfrRmRQZ"
      }
    },
    {
      "cell_type": "markdown",
      "source": [
        "**Categorical Color Palettes**\n",
        "\n",
        "Qualitative or categorical palettes are best suitable to plot the categorical data as follows:-\n"
      ],
      "metadata": {
        "id": "KA5_zbpJmWps"
      }
    },
    {
      "cell_type": "code",
      "source": [
        "current_palette1 = sns.color_palette()\n",
        "\n",
        "sns.palplot(current_palette1)\n",
        "\n",
        "plt.show()\n"
      ],
      "metadata": {
        "id": "KvX_ieMAmS6S"
      },
      "execution_count": null,
      "outputs": []
    }
  ]
}